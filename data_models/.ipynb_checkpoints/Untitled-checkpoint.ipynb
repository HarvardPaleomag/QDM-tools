{
 "cells": [
  {
   "cell_type": "code",
   "execution_count": 1,
   "id": "e4e3af3d-787d-4d0f-be4e-d1b9093c3473",
   "metadata": {},
   "outputs": [
    {
     "name": "stdout",
     "output_type": "stream",
     "text": [
      "Populating the interactive namespace from numpy and matplotlib\n"
     ]
    }
   ],
   "source": [
    "import numpy as np\n",
    "%pylab inline"
   ]
  },
  {
   "cell_type": "code",
   "execution_count": 2,
   "id": "b1ce8716-02b6-49ea-b111-0f5615872929",
   "metadata": {},
   "outputs": [],
   "source": [
    "%config InlineBackend.figure_format='retina'"
   ]
  },
  {
   "cell_type": "code",
   "execution_count": 127,
   "id": "472f77d9-01ca-4b2a-bb95-46aefa883553",
   "metadata": {},
   "outputs": [],
   "source": [
    "def dipole(xc, yc, m, dec, inc, x, y, h):\n",
    "\n",
    "    # rho: radial distance\n",
    "    # phi: polar angle\n",
    "    # z:   height\n",
    "\n",
    "    # m,de,inc -> mx,my,mz\n",
    "    dec = np.deg2rad(dec);\n",
    "    inc = np.deg2rad(inc);\n",
    "\n",
    "    mx = m * np.cos(dec) * np.cos(inc);\n",
    "    my = m * np.sin(dec) * np.cos(inc);\n",
    "    mz = m * np.sin(inc);\n",
    "    mvec = [mx, my, mz];\n",
    "\n",
    "    [X, Y, Z] = np.meshgrid(xc-x, yc-y, h);\n",
    "    # [theta,rho] = cart2pol(X,Y);\n",
    "\n",
    "    B = field(mvec, X, Y, Z);\n",
    "    return B\n"
   ]
  },
  {
   "cell_type": "code",
   "execution_count": 128,
   "id": "1309324b-5f76-4a2d-9fda-467f309c1278",
   "metadata": {},
   "outputs": [
    {
     "data": {
      "text/plain": [
       "[500.00000000000006, 500.00000000000006, 707.1067811865476]"
      ]
     },
     "execution_count": 128,
     "metadata": {},
     "output_type": "execute_result"
    }
   ],
   "source": [
    "def field(m, x, y, z):\n",
    "    r = np.sqrt(x**2+y**2+z**2);\n",
    "    R = np.concatenate([x,y,z], axis = 2);\n",
    "    \n",
    "    M = ones(R.shape);\n",
    "    M[:,:,0] = m[0];\n",
    "    M[:,:,1] = m[1];\n",
    "    M[:,:,2] = m[2];\n",
    "\n",
    "    return M[:,:,0]\n",
    "\n",
    "    mu0 = 4*np.pi*1e-7; #μ0 = 4π×10−7 H/m\n",
    "    a = (mu0 / (4 * np.pi));\n",
    "    d = dot_along_third_axis(M,R)\n",
    "    B = a * (3 * dot_along_third_axis(M,R) * R - np.square(r) * M) / np.power(r,5);\n",
    "    return d\n",
    "#     % Bx = a * (3 * (m(1) * x) .* x - r.^2 * m(1))./r.^5;\n",
    "#     % By = a * (3 * (m(2) * y) .* y - r.^2 * m(2))./r.^5;\n",
    "#     % Bz = a * (3 * (m(3) * z) .* z - r.^2 * m(3))./r.^5;\n",
    "dipole(arange(1,11), arange(1,11), 1000, 45, 45, 40,50,10)\n",
    "# imshow(dipole(arange(100), arange(100), 100000, 0, 12, 40,50,10)[:,:,2])\n",
    "# colorbar()"
   ]
  },
  {
   "cell_type": "code",
   "execution_count": 114,
   "id": "8fd97938-772c-45c6-a586-83a3da8a4521",
   "metadata": {},
   "outputs": [],
   "source": [
    "def dot_along_third_axis(A,B):\n",
    "    out = np.zeros(A.shape[1:])\n",
    "    for i in arange(A.shape[1]):\n",
    "        for j in arange(A.shape[2]):\n",
    "            out[i,j] = dot(A[:, i,j], B[:,i,j])\n",
    "    return out"
   ]
  },
  {
   "cell_type": "code",
   "execution_count": 58,
   "id": "63d125ef-e8f2-45a6-92ba-8e6e5b548f02",
   "metadata": {},
   "outputs": [
    {
     "name": "stdout",
     "output_type": "stream",
     "text": [
      "[[0. 0.]\n",
      " [0. 0.]]\n"
     ]
    },
    {
     "data": {
      "text/plain": [
       "array([[106., 140.],\n",
       "       [178., 220.]])"
      ]
     },
     "execution_count": 67,
     "metadata": {},
     "output_type": "execute_result"
    }
   ],
   "source": [
    "A = array([[[1,1],[1, 1]],[[2,3],[4,5]],[[6,7],[8,9]]])\n",
    "B = array([[[2,2],[2, 2]],[[10,11],[12,13]],[[14,15],[16,17]]])\n",
    "\n",
    "dot_along_third_axis(A,B)"
   ]
  },
  {
   "cell_type": "code",
   "execution_count": null,
   "id": "1dfc222c-b478-4cd2-a5c9-9a8371915f6f",
   "metadata": {},
   "outputs": [],
   "source": [
    "function B = dipole(xc, yc, m, dec, inc, x, y, h)\n",
    "\n",
    "% rho: radial distance\n",
    "% phi: polar angle\n",
    "% z:   height\n",
    "\n",
    "%% m,de,inc -> mx,my,mz\n",
    "dec = deg2rad(dec);\n",
    "inc = deg2rad(inc);\n",
    "\n",
    "mx = m * cos(dec) * cos(inc);\n",
    "my = m * sin(dec) * cos(inc);\n",
    "mz = m * sin(inc);\n",
    "mvec = [mx, my, mz];\n",
    "\n",
    "%%\n",
    "[X, Y, Z] = meshgrid(xc-x, yc-y, h);\n",
    "% [theta,rho] = cart2pol(X,Y);\n",
    "\n",
    "B = field(mvec, X, Y, Z);\n",
    "end\n",
    "\n",
    "function B = field(m, x, y, z)\n",
    "r = sqrt(x.^2+y.^2+z.^2);\n",
    "R = cat(3, x,y,z);\n",
    "M = ones(size(R));\n",
    "M(:,:,1) = m(1);\n",
    "M(:,:,2) = m(2);\n",
    "M(:,:,3) = m(3);\n",
    "\n",
    "mu0 = 4*pi*1e-7; %μ0 = 4π×10−7 H/m\n",
    "a = (mu0 / (4 * pi));\n",
    "B = a * (3 * dot(M,R,3).*R - r.^2 .* M)./r.^5;\n",
    "% Bx = (mu0 / (4 * pi)) * (3 * (m(1) * x) .* x - r.^2 * m(1))./r.^5;\n",
    "% By = (mu0 / (4 * pi)) * (3 * (m(2) * y) .* y - r.^2 * m(2))./r.^5;\n",
    "% Bz = (mu0 / (4 * pi)) * (3 * (m(3) * z) .* z - r.^2 * m(3))./r.^5;\n",
    "end\n"
   ]
  }
 ],
 "metadata": {
  "kernelspec": {
   "display_name": "Python 3",
   "language": "python",
   "name": "python3"
  },
  "language_info": {
   "codemirror_mode": {
    "name": "ipython",
    "version": 3
   },
   "file_extension": ".py",
   "mimetype": "text/x-python",
   "name": "python",
   "nbconvert_exporter": "python",
   "pygments_lexer": "ipython3",
   "version": "3.7.6"
  }
 },
 "nbformat": 4,
 "nbformat_minor": 5
}
