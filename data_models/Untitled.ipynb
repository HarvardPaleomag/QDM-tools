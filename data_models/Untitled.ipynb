{
 "cells": [
  {
   "cell_type": "code",
   "execution_count": 1,
   "id": "e4e3af3d-787d-4d0f-be4e-d1b9093c3473",
   "metadata": {},
   "outputs": [
    {
     "name": "stdout",
     "output_type": "stream",
     "text": [
      "Populating the interactive namespace from numpy and matplotlib\n"
     ]
    }
   ],
   "source": [
    "import numpy as np\n",
    "%pylab inline"
   ]
  },
  {
   "cell_type": "code",
   "execution_count": 2,
   "id": "b1ce8716-02b6-49ea-b111-0f5615872929",
   "metadata": {},
   "outputs": [],
   "source": [
    "%config InlineBackend.figure_format='retina'"
   ]
  },
  {
   "cell_type": "code",
   "execution_count": 12,
   "id": "472f77d9-01ca-4b2a-bb95-46aefa883553",
   "metadata": {},
   "outputs": [],
   "source": [
    "def dipole(xc, yc, dec, inc, m, x, y, h):\n",
    "\n",
    "    # z:   height\n",
    "\n",
    "    # m,de,inc -> mx,my,mz\n",
    "    dec = np.deg2rad(dec);\n",
    "    inc = np.deg2rad(inc);\n",
    "\n",
    "    mx = m * np.cos(dec) * np.cos(inc);\n",
    "    my = m * np.sin(dec) * np.cos(inc);\n",
    "    mz = m * np.sin(inc);\n",
    "    mvec = [mx, my, mz];\n",
    "\n",
    "    [X, Y, Z] = np.meshgrid(xc-x, yc-y, h);\n",
    "    # [theta,rho] = cart2pol(X,Y);\n",
    "#     X,Y = meshgrid(xc,yc)\n",
    "    B = field(mvec, X, Y, Z);\n",
    "#     B = calc_point_source_field(mvec, x,y, h, X, Y)\n",
    "    return B\n"
   ]
  },
  {
   "cell_type": "code",
   "execution_count": 26,
   "id": "1309324b-5f76-4a2d-9fda-467f309c1278",
   "metadata": {},
   "outputs": [
    {
     "data": {
      "text/plain": [
       "<matplotlib.image.AxesImage at 0x7f9801ccc490>"
      ]
     },
     "execution_count": 26,
     "metadata": {},
     "output_type": "execute_result"
    },
    {
     "data": {
      "image/png": "[encoded data removed]",
      "text/plain": [
       "<Figure size 432x288 with 1 Axes>"
      ]
     },
     "metadata": {
      "image/png": {
       "height": 251,
       "width": 251
      },
      "needs_background": "light"
     },
     "output_type": "display_data"
    }
   ],
   "source": [
    "def field(m, x, y, z):\n",
    "    r = np.sqrt(x**2+y**2+z**2);\n",
    "    R = np.concatenate([x,y,z], axis = 2);\n",
    "    \n",
    "    M = ones(R.shape);\n",
    "    M[:,:,0] = m[0];\n",
    "    M[:,:,1] = m[1];\n",
    "    M[:,:,2] = m[2];\n",
    "\n",
    "    mu0 = 4*np.pi*1e-7; #μ0 = 4π×10−7 H/m\n",
    "    a = (mu0 / (4 * np.pi));\n",
    "    d = dot_along_third_axis(M,R)\n",
    "    d = np.stack([d,d,d]).T\n",
    "    B = a * (3 * d * R - np.square(r) * M) / np.power(r,5);\n",
    "    return B\n",
    "#     % Bx = a * (3 * (m(1) * x) .* x - r.^2 * m(1))./r.^5;\n",
    "#     % By = a * (3 * (m(2) * y) .* y - r.^2 * m(2))./r.^5;\n",
    "#     % Bz = a * (3 * (m(3) * z) .* z - r.^2 * m(3))./r.^5;\n",
    "# dipole(arange(1,11), arange(1,11), 1000, 45, 45, 40,50,10)\n",
    "dp = dipole(arange(100), arange(100), 90, -90, 1.2934139e-13, 50,50,5)\n",
    "imshow(dp[:,:,2])\n",
    "# colorbar()"
   ]
  },
  {
   "cell_type": "code",
   "execution_count": 18,
   "id": "9a88de86-66e7-4f07-b185-ce28447f80f4",
   "metadata": {},
   "outputs": [],
   "source": [
    "import numba\n",
    "\n",
    "@numba.jit(nopython=True, fastmath=True)\n",
    "def calc_point_source_field(moment_vector: array, x_source, y_source, z_raw, x_grid, y_grid) -> array:\n",
    "    '''Compute the field of a magnetic dipole point source'''\n",
    "    z_observed = z_raw# LIFTOFF\n",
    "\n",
    "    dgridx = np.subtract(x_grid, x_source)\n",
    "    dgridy = np.subtract(y_grid, y_source)\n",
    "\n",
    "    squared_distance = np.square(dgridx) + np.square(dgridy) + np.square(z_observed)\n",
    "\n",
    "    aux = (moment_vector[0] * dgridx + moment_vector[1] * dgridy + moment_vector[2] * z_observed) \n",
    "    aux /= np.power(squared_distance, 5.0 / 2.0)\n",
    "\n",
    "    bz_dip = 1e-7 * (3.0 * aux * z_observed - moment_vector[2] / np.power(squared_distance, 3.0/2.0))\n",
    "    return bz_dip\n"
   ]
  },
  {
   "cell_type": "code",
   "execution_count": 253,
   "id": "84d5dbe4-2cc0-438d-bdc3-84a54542cf6a",
   "metadata": {},
   "outputs": [],
   "source": [
    "mvec, x,y, h, X, Y, Z = dipole(arange(100), arange(100), 1000, 45, 0, 40,50,10)"
   ]
  },
  {
   "cell_type": "code",
   "execution_count": 19,
   "id": "a2fbbe4f-0efc-4c5b-9e4e-30396ec2ee7b",
   "metadata": {},
   "outputs": [
    {
     "ename": "NameError",
     "evalue": "name 'mvec' is not defined",
     "output_type": "error",
     "traceback": [
      "\u001b[0;31m---------------------------------------------------------------------------\u001b[0m",
      "\u001b[0;31mNameError\u001b[0m                                 Traceback (most recent call last)",
      "\u001b[0;32m<ipython-input-19-262c1673ffc5>\u001b[0m in \u001b[0;36m<module>\u001b[0;34m\u001b[0m\n\u001b[0;32m----> 1\u001b[0;31m \u001b[0mget_ipython\u001b[0m\u001b[0;34m(\u001b[0m\u001b[0;34m)\u001b[0m\u001b[0;34m.\u001b[0m\u001b[0mrun_line_magic\u001b[0m\u001b[0;34m(\u001b[0m\u001b[0;34m'timeit'\u001b[0m\u001b[0;34m,\u001b[0m \u001b[0;34m'field(mvec, X, Y, Z)'\u001b[0m\u001b[0;34m)\u001b[0m\u001b[0;34m\u001b[0m\u001b[0;34m\u001b[0m\u001b[0m\n\u001b[0m",
      "\u001b[0;32m/opt/anaconda3/envs/QDM_ML/lib/python3.7/site-packages/IPython/core/interactiveshell.py\u001b[0m in \u001b[0;36mrun_line_magic\u001b[0;34m(self, magic_name, line, _stack_depth)\u001b[0m\n\u001b[1;32m   2342\u001b[0m                 \u001b[0mkwargs\u001b[0m\u001b[0;34m[\u001b[0m\u001b[0;34m'local_ns'\u001b[0m\u001b[0;34m]\u001b[0m \u001b[0;34m=\u001b[0m \u001b[0mself\u001b[0m\u001b[0;34m.\u001b[0m\u001b[0mget_local_scope\u001b[0m\u001b[0;34m(\u001b[0m\u001b[0mstack_depth\u001b[0m\u001b[0;34m)\u001b[0m\u001b[0;34m\u001b[0m\u001b[0;34m\u001b[0m\u001b[0m\n\u001b[1;32m   2343\u001b[0m             \u001b[0;32mwith\u001b[0m \u001b[0mself\u001b[0m\u001b[0;34m.\u001b[0m\u001b[0mbuiltin_trap\u001b[0m\u001b[0;34m:\u001b[0m\u001b[0;34m\u001b[0m\u001b[0;34m\u001b[0m\u001b[0m\n\u001b[0;32m-> 2344\u001b[0;31m                 \u001b[0mresult\u001b[0m \u001b[0;34m=\u001b[0m \u001b[0mfn\u001b[0m\u001b[0;34m(\u001b[0m\u001b[0;34m*\u001b[0m\u001b[0margs\u001b[0m\u001b[0;34m,\u001b[0m \u001b[0;34m**\u001b[0m\u001b[0mkwargs\u001b[0m\u001b[0;34m)\u001b[0m\u001b[0;34m\u001b[0m\u001b[0;34m\u001b[0m\u001b[0m\n\u001b[0m\u001b[1;32m   2345\u001b[0m             \u001b[0;32mreturn\u001b[0m \u001b[0mresult\u001b[0m\u001b[0;34m\u001b[0m\u001b[0;34m\u001b[0m\u001b[0m\n\u001b[1;32m   2346\u001b[0m \u001b[0;34m\u001b[0m\u001b[0m\n",
      "\u001b[0;32m/opt/anaconda3/envs/QDM_ML/lib/python3.7/site-packages/decorator.py\u001b[0m in \u001b[0;36mfun\u001b[0;34m(*args, **kw)\u001b[0m\n\u001b[1;32m    230\u001b[0m             \u001b[0;32mif\u001b[0m \u001b[0;32mnot\u001b[0m \u001b[0mkwsyntax\u001b[0m\u001b[0;34m:\u001b[0m\u001b[0;34m\u001b[0m\u001b[0;34m\u001b[0m\u001b[0m\n\u001b[1;32m    231\u001b[0m                 \u001b[0margs\u001b[0m\u001b[0;34m,\u001b[0m \u001b[0mkw\u001b[0m \u001b[0;34m=\u001b[0m \u001b[0mfix\u001b[0m\u001b[0;34m(\u001b[0m\u001b[0margs\u001b[0m\u001b[0;34m,\u001b[0m \u001b[0mkw\u001b[0m\u001b[0;34m,\u001b[0m \u001b[0msig\u001b[0m\u001b[0;34m)\u001b[0m\u001b[0;34m\u001b[0m\u001b[0;34m\u001b[0m\u001b[0m\n\u001b[0;32m--> 232\u001b[0;31m             \u001b[0;32mreturn\u001b[0m \u001b[0mcaller\u001b[0m\u001b[0;34m(\u001b[0m\u001b[0mfunc\u001b[0m\u001b[0;34m,\u001b[0m \u001b[0;34m*\u001b[0m\u001b[0;34m(\u001b[0m\u001b[0mextras\u001b[0m \u001b[0;34m+\u001b[0m \u001b[0margs\u001b[0m\u001b[0;34m)\u001b[0m\u001b[0;34m,\u001b[0m \u001b[0;34m**\u001b[0m\u001b[0mkw\u001b[0m\u001b[0;34m)\u001b[0m\u001b[0;34m\u001b[0m\u001b[0;34m\u001b[0m\u001b[0m\n\u001b[0m\u001b[1;32m    233\u001b[0m     \u001b[0mfun\u001b[0m\u001b[0;34m.\u001b[0m\u001b[0m__name__\u001b[0m \u001b[0;34m=\u001b[0m \u001b[0mfunc\u001b[0m\u001b[0;34m.\u001b[0m\u001b[0m__name__\u001b[0m\u001b[0;34m\u001b[0m\u001b[0;34m\u001b[0m\u001b[0m\n\u001b[1;32m    234\u001b[0m     \u001b[0mfun\u001b[0m\u001b[0;34m.\u001b[0m\u001b[0m__doc__\u001b[0m \u001b[0;34m=\u001b[0m \u001b[0mfunc\u001b[0m\u001b[0;34m.\u001b[0m\u001b[0m__doc__\u001b[0m\u001b[0;34m\u001b[0m\u001b[0;34m\u001b[0m\u001b[0m\n",
      "\u001b[0;32m/opt/anaconda3/envs/QDM_ML/lib/python3.7/site-packages/IPython/core/magic.py\u001b[0m in \u001b[0;36m<lambda>\u001b[0;34m(f, *a, **k)\u001b[0m\n\u001b[1;32m    185\u001b[0m     \u001b[0;31m# but it's overkill for just that one bit of state.\u001b[0m\u001b[0;34m\u001b[0m\u001b[0;34m\u001b[0m\u001b[0;34m\u001b[0m\u001b[0m\n\u001b[1;32m    186\u001b[0m     \u001b[0;32mdef\u001b[0m \u001b[0mmagic_deco\u001b[0m\u001b[0;34m(\u001b[0m\u001b[0marg\u001b[0m\u001b[0;34m)\u001b[0m\u001b[0;34m:\u001b[0m\u001b[0;34m\u001b[0m\u001b[0;34m\u001b[0m\u001b[0m\n\u001b[0;32m--> 187\u001b[0;31m         \u001b[0mcall\u001b[0m \u001b[0;34m=\u001b[0m \u001b[0;32mlambda\u001b[0m \u001b[0mf\u001b[0m\u001b[0;34m,\u001b[0m \u001b[0;34m*\u001b[0m\u001b[0ma\u001b[0m\u001b[0;34m,\u001b[0m \u001b[0;34m**\u001b[0m\u001b[0mk\u001b[0m\u001b[0;34m:\u001b[0m \u001b[0mf\u001b[0m\u001b[0;34m(\u001b[0m\u001b[0;34m*\u001b[0m\u001b[0ma\u001b[0m\u001b[0;34m,\u001b[0m \u001b[0;34m**\u001b[0m\u001b[0mk\u001b[0m\u001b[0;34m)\u001b[0m\u001b[0;34m\u001b[0m\u001b[0;34m\u001b[0m\u001b[0m\n\u001b[0m\u001b[1;32m    188\u001b[0m \u001b[0;34m\u001b[0m\u001b[0m\n\u001b[1;32m    189\u001b[0m         \u001b[0;32mif\u001b[0m \u001b[0mcallable\u001b[0m\u001b[0;34m(\u001b[0m\u001b[0marg\u001b[0m\u001b[0;34m)\u001b[0m\u001b[0;34m:\u001b[0m\u001b[0;34m\u001b[0m\u001b[0;34m\u001b[0m\u001b[0m\n",
      "\u001b[0;32m/opt/anaconda3/envs/QDM_ML/lib/python3.7/site-packages/IPython/core/magics/execution.py\u001b[0m in \u001b[0;36mtimeit\u001b[0;34m(self, line, cell, local_ns)\u001b[0m\n\u001b[1;32m   1167\u001b[0m             \u001b[0;32mfor\u001b[0m \u001b[0mindex\u001b[0m \u001b[0;32min\u001b[0m \u001b[0mrange\u001b[0m\u001b[0;34m(\u001b[0m\u001b[0;36m0\u001b[0m\u001b[0;34m,\u001b[0m \u001b[0;36m10\u001b[0m\u001b[0;34m)\u001b[0m\u001b[0;34m:\u001b[0m\u001b[0;34m\u001b[0m\u001b[0;34m\u001b[0m\u001b[0m\n\u001b[1;32m   1168\u001b[0m                 \u001b[0mnumber\u001b[0m \u001b[0;34m=\u001b[0m \u001b[0;36m10\u001b[0m \u001b[0;34m**\u001b[0m \u001b[0mindex\u001b[0m\u001b[0;34m\u001b[0m\u001b[0;34m\u001b[0m\u001b[0m\n\u001b[0;32m-> 1169\u001b[0;31m                 \u001b[0mtime_number\u001b[0m \u001b[0;34m=\u001b[0m \u001b[0mtimer\u001b[0m\u001b[0;34m.\u001b[0m\u001b[0mtimeit\u001b[0m\u001b[0;34m(\u001b[0m\u001b[0mnumber\u001b[0m\u001b[0;34m)\u001b[0m\u001b[0;34m\u001b[0m\u001b[0;34m\u001b[0m\u001b[0m\n\u001b[0m\u001b[1;32m   1170\u001b[0m                 \u001b[0;32mif\u001b[0m \u001b[0mtime_number\u001b[0m \u001b[0;34m>=\u001b[0m \u001b[0;36m0.2\u001b[0m\u001b[0;34m:\u001b[0m\u001b[0;34m\u001b[0m\u001b[0;34m\u001b[0m\u001b[0m\n\u001b[1;32m   1171\u001b[0m                     \u001b[0;32mbreak\u001b[0m\u001b[0;34m\u001b[0m\u001b[0;34m\u001b[0m\u001b[0m\n",
      "\u001b[0;32m/opt/anaconda3/envs/QDM_ML/lib/python3.7/site-packages/IPython/core/magics/execution.py\u001b[0m in \u001b[0;36mtimeit\u001b[0;34m(self, number)\u001b[0m\n\u001b[1;32m    167\u001b[0m         \u001b[0mgc\u001b[0m\u001b[0;34m.\u001b[0m\u001b[0mdisable\u001b[0m\u001b[0;34m(\u001b[0m\u001b[0;34m)\u001b[0m\u001b[0;34m\u001b[0m\u001b[0;34m\u001b[0m\u001b[0m\n\u001b[1;32m    168\u001b[0m         \u001b[0;32mtry\u001b[0m\u001b[0;34m:\u001b[0m\u001b[0;34m\u001b[0m\u001b[0;34m\u001b[0m\u001b[0m\n\u001b[0;32m--> 169\u001b[0;31m             \u001b[0mtiming\u001b[0m \u001b[0;34m=\u001b[0m \u001b[0mself\u001b[0m\u001b[0;34m.\u001b[0m\u001b[0minner\u001b[0m\u001b[0;34m(\u001b[0m\u001b[0mit\u001b[0m\u001b[0;34m,\u001b[0m \u001b[0mself\u001b[0m\u001b[0;34m.\u001b[0m\u001b[0mtimer\u001b[0m\u001b[0;34m)\u001b[0m\u001b[0;34m\u001b[0m\u001b[0;34m\u001b[0m\u001b[0m\n\u001b[0m\u001b[1;32m    170\u001b[0m         \u001b[0;32mfinally\u001b[0m\u001b[0;34m:\u001b[0m\u001b[0;34m\u001b[0m\u001b[0;34m\u001b[0m\u001b[0m\n\u001b[1;32m    171\u001b[0m             \u001b[0;32mif\u001b[0m \u001b[0mgcold\u001b[0m\u001b[0;34m:\u001b[0m\u001b[0;34m\u001b[0m\u001b[0;34m\u001b[0m\u001b[0m\n",
      "\u001b[0;32m<magic-timeit>\u001b[0m in \u001b[0;36minner\u001b[0;34m(_it, _timer)\u001b[0m\n",
      "\u001b[0;31mNameError\u001b[0m: name 'mvec' is not defined"
     ]
    }
   ],
   "source": [
    "%timeit field(mvec, X, Y, Z)"
   ]
  },
  {
   "cell_type": "code",
   "execution_count": 256,
   "id": "bb919ce3-761a-4a52-b41c-4a61a93ccd92",
   "metadata": {},
   "outputs": [],
   "source": [
    "mvec, x,y, h, X, Y = dipole(arange(100), arange(100), 1000, 45, 0, 40,50,10)"
   ]
  },
  {
   "cell_type": "code",
   "execution_count": 275,
   "id": "a4af68b8-6f11-4bea-b149-af7e07c4fa62",
   "metadata": {},
   "outputs": [
    {
     "name": "stderr",
     "output_type": "stream",
     "text": [
      "C:\\Users\\micha\\anaconda3\\lib\\site-packages\\numba\\core\\ir_utils.py:2119: NumbaPendingDeprecationWarning: \u001b[1m\n",
      "Encountered the use of a type that is scheduled for deprecation: type 'reflected list' found for argument 'moment_vector' of function 'calc_point_source_field'.\n",
      "\n",
      "For more information visit https://numba.pydata.org/numba-doc/latest/reference/deprecation.html#deprecation-of-reflection-for-list-and-set-types\n",
      "\u001b[1m\n",
      "File \"<ipython-input-274-4344e02a257b>\", line 4:\u001b[0m\n",
      "\u001b[1m@numba.jit(nopython=True, fastmath=True)\n",
      "\u001b[1mdef calc_point_source_field(moment_vector: array, x_source, y_source, z_raw, x_grid, y_grid) -> array:\n",
      "\u001b[0m\u001b[1m^\u001b[0m\u001b[0m\n",
      "\u001b[0m\n",
      "  warnings.warn(NumbaPendingDeprecationWarning(msg, loc=loc))\n"
     ]
    },
    {
     "name": "stdout",
     "output_type": "stream",
     "text": [
      "80.1 µs ± 13.1 µs per loop (mean ± std. dev. of 7 runs, 1 loop each)\n"
     ]
    }
   ],
   "source": [
    "%timeit calc_point_source_field(mvec, x,y, h, X, Y)"
   ]
  },
  {
   "cell_type": "code",
   "execution_count": null,
   "id": "5bc661a5-bf9d-474a-9ba9-6bc217bb5ac2",
   "metadata": {},
   "outputs": [],
   "source": []
  },
  {
   "cell_type": "code",
   "execution_count": null,
   "id": "a30e5ce2-732c-451e-a535-29349fefb537",
   "metadata": {},
   "outputs": [],
   "source": [
    "a = array([[1,2],[3,4]])"
   ]
  },
  {
   "cell_type": "code",
   "execution_count": 197,
   "id": "8db29cb9-bf6c-4647-af94-43af5afcee78",
   "metadata": {},
   "outputs": [
    {
     "data": {
      "text/plain": [
       "(2, 2, 3)"
      ]
     },
     "execution_count": 197,
     "metadata": {},
     "output_type": "execute_result"
    }
   ],
   "source": [
    "stack([a,a,a]).T.shape"
   ]
  },
  {
   "cell_type": "code",
   "execution_count": 21,
   "id": "8fd97938-772c-45c6-a586-83a3da8a4521",
   "metadata": {},
   "outputs": [],
   "source": [
    "def dot_along_third_axis(A,B):\n",
    "    out = np.zeros(A.shape[:2])\n",
    "    for i in arange(A.shape[0]):\n",
    "        for j in arange(A.shape[1]):\n",
    "            out[i,j] = dot(A[i,j,:], B[i,j,:])\n",
    "    return out"
   ]
  },
  {
   "cell_type": "code",
   "execution_count": 169,
   "id": "63d125ef-e8f2-45a6-92ba-8e6e5b548f02",
   "metadata": {},
   "outputs": [
    {
     "name": "stdout",
     "output_type": "stream",
     "text": [
      "[1 2 6] [ 2 10 14]\n"
     ]
    },
    {
     "data": {
      "text/plain": [
       "array([[106., 178.],\n",
       "       [140., 220.]])"
      ]
     },
     "execution_count": 169,
     "metadata": {},
     "output_type": "execute_result"
    }
   ],
   "source": [
    "A = array([[[1,1],[1, 1]],\n",
    "           [[2,3],[4,5]],\n",
    "           [[6,7],[8,9]]])\n",
    "A = np.swapaxes(A,0,2)\n",
    "B = array([[[2,2],[2, 2]],[[10,11],[12,13]],[[14,15],[16,17]]])\n",
    "B = np.swapaxes(B,0,2)\n",
    "\n",
    "print(A[0,0,:], B[0,0,:])\n",
    "\n",
    "dot_along_third_axis(A,B)"
   ]
  },
  {
   "cell_type": "code",
   "execution_count": null,
   "id": "1dfc222c-b478-4cd2-a5c9-9a8371915f6f",
   "metadata": {},
   "outputs": [],
   "source": [
    "function B = dipole(xc, yc, m, dec, inc, x, y, h)\n",
    "\n",
    "% rho: radial distance\n",
    "% phi: polar angle\n",
    "% z:   height\n",
    "\n",
    "%% m,de,inc -> mx,my,mz\n",
    "dec = deg2rad(dec);\n",
    "inc = deg2rad(inc);\n",
    "\n",
    "mx = m * cos(dec) * cos(inc);\n",
    "my = m * sin(dec) * cos(inc);\n",
    "mz = m * sin(inc);\n",
    "mvec = [mx, my, mz];\n",
    "\n",
    "%%\n",
    "[X, Y, Z] = meshgrid(xc-x, yc-y, h);\n",
    "% [theta,rho] = cart2pol(X,Y);\n",
    "\n",
    "B = field(mvec, X, Y, Z);\n",
    "end\n",
    "\n",
    "function B = field(m, x, y, z)\n",
    "r = sqrt(x.^2+y.^2+z.^2);\n",
    "R = cat(3, x,y,z);\n",
    "M = ones(size(R));\n",
    "M(:,:,1) = m(1);\n",
    "M(:,:,2) = m(2);\n",
    "M(:,:,3) = m(3);\n",
    "\n",
    "mu0 = 4*pi*1e-7; %μ0 = 4π×10−7 H/m\n",
    "a = (mu0 / (4 * pi));\n",
    "B = a * (3 * dot(M,R,3).*R - r.^2 .* M)./r.^5;\n",
    "% Bx = (mu0 / (4 * pi)) * (3 * (m(1) * x) .* x - r.^2 * m(1))./r.^5;\n",
    "% By = (mu0 / (4 * pi)) * (3 * (m(2) * y) .* y - r.^2 * m(2))./r.^5;\n",
    "% Bz = (mu0 / (4 * pi)) * (3 * (m(3) * z) .* z - r.^2 * m(3))./r.^5;\n",
    "end\n"
   ]
  }
 ],
 "metadata": {
  "kernelspec": {
   "display_name": "Python 3",
   "language": "python",
   "name": "python3"
  },
  "language_info": {
   "codemirror_mode": {
    "name": "ipython",
    "version": 3
   },
   "file_extension": ".py",
   "mimetype": "text/x-python",
   "name": "python",
   "nbconvert_exporter": "python",
   "pygments_lexer": "ipython3",
   "version": "3.7.11"
  }
 },
 "nbformat": 4,
 "nbformat_minor": 5
}
